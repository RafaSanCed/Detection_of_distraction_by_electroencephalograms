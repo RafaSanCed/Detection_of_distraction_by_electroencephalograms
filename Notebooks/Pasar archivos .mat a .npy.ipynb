{
 "cells": [
  {
   "cell_type": "code",
   "execution_count": 2,
   "id": "78be51a5",
   "metadata": {
    "ExecuteTime": {
     "end_time": "2024-01-11T18:38:06.517978Z",
     "start_time": "2024-01-11T18:38:06.510038Z"
    }
   },
   "outputs": [],
   "source": [
    "import scipy.io\n",
    "import os"
   ]
  },
  {
   "cell_type": "code",
   "execution_count": 15,
   "id": "f081bbe8",
   "metadata": {
    "ExecuteTime": {
     "end_time": "2024-01-11T18:54:52.896112Z",
     "start_time": "2024-01-11T18:54:52.795924Z"
    }
   },
   "outputs": [],
   "source": [
    "mat = scipy.io.loadmat('../Raw Data/mat/S1BeatA1.mat')"
   ]
  },
  {
   "cell_type": "code",
   "execution_count": 6,
   "id": "c6bd847f",
   "metadata": {
    "ExecuteTime": {
     "end_time": "2024-01-11T18:43:01.269311Z",
     "start_time": "2024-01-11T18:43:01.260323Z"
    }
   },
   "outputs": [
    {
     "data": {
      "text/plain": [
       "(14, 123392)"
      ]
     },
     "execution_count": 6,
     "metadata": {},
     "output_type": "execute_result"
    }
   ],
   "source": [
    "recordings = mat['recordings']\n",
    "recordings.shape"
   ]
  },
  {
   "cell_type": "code",
   "execution_count": 10,
   "id": "25102f74",
   "metadata": {
    "ExecuteTime": {
     "end_time": "2024-01-11T18:44:48.740389Z",
     "start_time": "2024-01-11T18:44:48.730237Z"
    }
   },
   "outputs": [
    {
     "data": {
      "text/plain": [
       "array([[(array([[0]], dtype=uint8), array(['                                                                                '],\n",
       "              dtype='<U80'), array(['S1beatA1                                                                        '],\n",
       "              dtype='<U80'), array(['28.09.22'], dtype='<U8'), array(['11.59.29'], dtype='<U8'), array([[15616]], dtype=uint16), array([[482]], dtype=uint16), array([[1]], dtype=uint8), array([[60]], dtype=uint8), array([[array(['TIME_STAMP_s'], dtype='<U12'),\n",
       "                array(['TIME_STAMP_ms'], dtype='<U13'),\n",
       "                array(['OR_TIME_STAMP_s'], dtype='<U15'),\n",
       "                array(['OR_TIME_STAMP_ms'], dtype='<U16'),\n",
       "                array(['COUNTER'], dtype='<U7'),\n",
       "                array(['INTERPOLATED'], dtype='<U12'),\n",
       "                array(['AF3'], dtype='<U3'), array(['F7'], dtype='<U2'),\n",
       "                array(['F3'], dtype='<U2'), array(['FC5'], dtype='<U3'),\n",
       "                array(['T7'], dtype='<U2'), array(['P7'], dtype='<U2'),\n",
       "                array(['O1'], dtype='<U2'), array(['O2'], dtype='<U2'),\n",
       "                array(['P8'], dtype='<U2'), array(['T8'], dtype='<U2'),\n",
       "                array(['FC6'], dtype='<U3'), array(['F4'], dtype='<U2'),\n",
       "                array(['F8'], dtype='<U2'), array(['AF4'], dtype='<U3'),\n",
       "                array(['RAW_CQ'], dtype='<U6'), array(['BATTERY'], dtype='<U7'),\n",
       "                array(['BATTERY_PERCENT'], dtype='<U15'),\n",
       "                array(['MarkerIndex'], dtype='<U11'),\n",
       "                array(['MarkerType'], dtype='<U10'),\n",
       "                array(['MarkerValueInt'], dtype='<U14'),\n",
       "                array(['MARKER_HARDWARE'], dtype='<U15'),\n",
       "                array(['CQ_AF3'], dtype='<U6'), array(['CQ_F7'], dtype='<U5'),\n",
       "                array(['CQ_F3'], dtype='<U5'), array(['CQ_FC5'], dtype='<U6'),\n",
       "                array(['CQ_T7'], dtype='<U5'), array(['CQ_P7'], dtype='<U5'),\n",
       "                array(['CQ_O1'], dtype='<U5'), array(['CQ_O2'], dtype='<U5'),\n",
       "                array(['CQ_P8'], dtype='<U5'), array(['CQ_T8'], dtype='<U5'),\n",
       "                array(['CQ_FC6'], dtype='<U6'), array(['CQ_F4'], dtype='<U5'),\n",
       "                array(['CQ_F8'], dtype='<U5'), array(['CQ_AF4'], dtype='<U6'),\n",
       "                array(['CQ_OVERALL'], dtype='<U10'),\n",
       "                array(['EQ_SampleRateQua'], dtype='<U16'),\n",
       "                array(['EQ_OVERALL'], dtype='<U10'),\n",
       "                array(['EQ_AF3'], dtype='<U6'), array(['EQ_F7'], dtype='<U5'),\n",
       "                array(['EQ_F3'], dtype='<U5'), array(['EQ_FC5'], dtype='<U6'),\n",
       "                array(['EQ_T7'], dtype='<U5'), array(['EQ_P7'], dtype='<U5'),\n",
       "                array(['EQ_O1'], dtype='<U5'), array(['EQ_O2'], dtype='<U5'),\n",
       "                array(['EQ_P8'], dtype='<U5'), array(['EQ_T8'], dtype='<U5'),\n",
       "                array(['EQ_FC6'], dtype='<U6'), array(['EQ_F4'], dtype='<U5'),\n",
       "                array(['EQ_F8'], dtype='<U5'), array(['EQ_AF4'], dtype='<U6'),\n",
       "                array(['CQ_CMS'], dtype='<U6'), array(['CQ_DRL'], dtype='<U6')]],\n",
       "              dtype=object), array([[array(['emotiv electrode                                                                '],\n",
       "                      dtype='<U80')                                                                        ,\n",
       "                array(['emotiv electrode                                                                '],\n",
       "                      dtype='<U80')                                                                        ,\n",
       "                array(['emotiv electrode                                                                '],\n",
       "                      dtype='<U80')                                                                        ,\n",
       "                array(['emotiv electrode                                                                '],\n",
       "                      dtype='<U80')                                                                        ,\n",
       "                array(['emotiv electrode                                                                '],\n",
       "                      dtype='<U80')                                                                        ,\n",
       "                array(['emotiv electrode                                                                '],\n",
       "                      dtype='<U80')                                                                        ,\n",
       "                array(['emotiv electrode                                                                '],\n",
       "                      dtype='<U80')                                                                        ,\n",
       "                array(['emotiv electrode                                                                '],\n",
       "                      dtype='<U80')                                                                        ,\n",
       "                array(['emotiv electrode                                                                '],\n",
       "                      dtype='<U80')                                                                        ,\n",
       "                array(['emotiv electrode                                                                '],\n",
       "                      dtype='<U80')                                                                        ,\n",
       "                array(['emotiv electrode                                                                '],\n",
       "                      dtype='<U80')                                                                        ,\n",
       "                array(['emotiv electrode                                                                '],\n",
       "                      dtype='<U80')                                                                        ,\n",
       "                array(['emotiv electrode                                                                '],\n",
       "                      dtype='<U80')                                                                        ,\n",
       "                array(['emotiv electrode                                                                '],\n",
       "                      dtype='<U80')                                                                        ,\n",
       "                array(['emotiv electrode                                                                '],\n",
       "                      dtype='<U80')                                                                        ,\n",
       "                array(['emotiv electrode                                                                '],\n",
       "                      dtype='<U80')                                                                        ,\n",
       "                array(['emotiv electrode                                                                '],\n",
       "                      dtype='<U80')                                                                        ,\n",
       "                array(['emotiv electrode                                                                '],\n",
       "                      dtype='<U80')                                                                        ,\n",
       "                array(['emotiv electrode                                                                '],\n",
       "                      dtype='<U80')                                                                        ,\n",
       "                array(['emotiv electrode                                                                '],\n",
       "                      dtype='<U80')                                                                        ,\n",
       "                array(['emotiv electrode                                                                '],\n",
       "                      dtype='<U80')                                                                        ,\n",
       "                array(['emotiv electrode                                                                '],\n",
       "                      dtype='<U80')                                                                        ,\n",
       "                array(['emotiv electrode                                                                '],\n",
       "                      dtype='<U80')                                                                        ,\n",
       "                array(['emotiv electrode                                                                '],\n",
       "                      dtype='<U80')                                                                        ,\n",
       "                array(['emotiv electrode                                                                '],\n",
       "                      dtype='<U80')                                                                        ,\n",
       "                array(['emotiv electrode                                                                '],\n",
       "                      dtype='<U80')                                                                        ,\n",
       "                array(['emotiv electrode                                                                '],\n",
       "                      dtype='<U80')                                                                        ,\n",
       "                array(['emotiv electrode                                                                '],\n",
       "                      dtype='<U80')                                                                        ,\n",
       "                array(['emotiv electrode                                                                '],\n",
       "                      dtype='<U80')                                                                        ,\n",
       "                array(['emotiv electrode                                                                '],\n",
       "                      dtype='<U80')                                                                        ,\n",
       "                array(['emotiv electrode                                                                '],\n",
       "                      dtype='<U80')                                                                        ,\n",
       "                array(['emotiv electrode                                                                '],\n",
       "                      dtype='<U80')                                                                        ,\n",
       "                array(['emotiv electrode                                                                '],\n",
       "                      dtype='<U80')                                                                        ,\n",
       "                array(['emotiv electrode                                                                '],\n",
       "                      dtype='<U80')                                                                        ,\n",
       "                array(['emotiv electrode                                                                '],\n",
       "                      dtype='<U80')                                                                        ,\n",
       "                array(['emotiv electrode                                                                '],\n",
       "                      dtype='<U80')                                                                        ,\n",
       "                array(['emotiv electrode                                                                '],\n",
       "                      dtype='<U80')                                                                        ,\n",
       "                array(['emotiv electrode                                                                '],\n",
       "                      dtype='<U80')                                                                        ,\n",
       "                array(['emotiv electrode                                                                '],\n",
       "                      dtype='<U80')                                                                        ,\n",
       "                array(['emotiv electrode                                                                '],\n",
       "                      dtype='<U80')                                                                        ,\n",
       "                array(['emotiv electrode                                                                '],\n",
       "                      dtype='<U80')                                                                        ,\n",
       "                array(['emotiv electrode                                                                '],\n",
       "                      dtype='<U80')                                                                        ,\n",
       "                array(['emotiv electrode                                                                '],\n",
       "                      dtype='<U80')                                                                        ,\n",
       "                array(['emotiv electrode                                                                '],\n",
       "                      dtype='<U80')                                                                        ,\n",
       "                array(['emotiv electrode                                                                '],\n",
       "                      dtype='<U80')                                                                        ,\n",
       "                array(['emotiv electrode                                                                '],\n",
       "                      dtype='<U80')                                                                        ,\n",
       "                array(['emotiv electrode                                                                '],\n",
       "                      dtype='<U80')                                                                        ,\n",
       "                array(['emotiv electrode                                                                '],\n",
       "                      dtype='<U80')                                                                        ,\n",
       "                array(['emotiv electrode                                                                '],\n",
       "                      dtype='<U80')                                                                        ,\n",
       "                array(['emotiv electrode                                                                '],\n",
       "                      dtype='<U80')                                                                        ,\n",
       "                array(['emotiv electrode                                                                '],\n",
       "                      dtype='<U80')                                                                        ,\n",
       "                array(['emotiv electrode                                                                '],\n",
       "                      dtype='<U80')                                                                        ,\n",
       "                array(['emotiv electrode                                                                '],\n",
       "                      dtype='<U80')                                                                        ,\n",
       "                array(['emotiv electrode                                                                '],\n",
       "                      dtype='<U80')                                                                        ,\n",
       "                array(['emotiv electrode                                                                '],\n",
       "                      dtype='<U80')                                                                        ,\n",
       "                array(['emotiv electrode                                                                '],\n",
       "                      dtype='<U80')                                                                        ,\n",
       "                array(['emotiv electrode                                                                '],\n",
       "                      dtype='<U80')                                                                        ,\n",
       "                array(['emotiv electrode                                                                '],\n",
       "                      dtype='<U80')                                                                        ,\n",
       "                array(['emotiv electrode                                                                '],\n",
       "                      dtype='<U80')                                                                        ,\n",
       "                array(['emotiv electrode                                                                '],\n",
       "                      dtype='<U80')                                                                        ]],\n",
       "              dtype=object), array([[array(['uV'], dtype='<U2'), array(['uV'], dtype='<U2'),\n",
       "                array(['uV'], dtype='<U2'), array(['uV'], dtype='<U2'),\n",
       "                array(['uV'], dtype='<U2'), array(['uV'], dtype='<U2'),\n",
       "                array(['uV'], dtype='<U2'), array(['uV'], dtype='<U2'),\n",
       "                array(['uV'], dtype='<U2'), array(['uV'], dtype='<U2'),\n",
       "                array(['uV'], dtype='<U2'), array(['uV'], dtype='<U2'),\n",
       "                array(['uV'], dtype='<U2'), array(['uV'], dtype='<U2'),\n",
       "                array(['uV'], dtype='<U2'), array(['uV'], dtype='<U2'),\n",
       "                array(['uV'], dtype='<U2'), array(['uV'], dtype='<U2'),\n",
       "                array(['uV'], dtype='<U2'), array(['uV'], dtype='<U2'),\n",
       "                array(['uV'], dtype='<U2'), array(['uV'], dtype='<U2'),\n",
       "                array(['uV'], dtype='<U2'), array(['uV'], dtype='<U2'),\n",
       "                array(['uV'], dtype='<U2'), array(['uV'], dtype='<U2'),\n",
       "                array(['uV'], dtype='<U2'), array(['uV'], dtype='<U2'),\n",
       "                array(['uV'], dtype='<U2'), array(['uV'], dtype='<U2'),\n",
       "                array(['uV'], dtype='<U2'), array(['uV'], dtype='<U2'),\n",
       "                array(['uV'], dtype='<U2'), array(['uV'], dtype='<U2'),\n",
       "                array(['uV'], dtype='<U2'), array(['uV'], dtype='<U2'),\n",
       "                array(['uV'], dtype='<U2'), array(['uV'], dtype='<U2'),\n",
       "                array(['uV'], dtype='<U2'), array(['uV'], dtype='<U2'),\n",
       "                array(['uV'], dtype='<U2'), array(['uV'], dtype='<U2'),\n",
       "                array(['uV'], dtype='<U2'), array(['uV'], dtype='<U2'),\n",
       "                array(['uV'], dtype='<U2'), array(['uV'], dtype='<U2'),\n",
       "                array(['uV'], dtype='<U2'), array(['uV'], dtype='<U2'),\n",
       "                array(['uV'], dtype='<U2'), array(['uV'], dtype='<U2'),\n",
       "                array(['uV'], dtype='<U2'), array(['uV'], dtype='<U2'),\n",
       "                array(['uV'], dtype='<U2'), array(['uV'], dtype='<U2'),\n",
       "                array(['uV'], dtype='<U2'), array(['uV'], dtype='<U2'),\n",
       "                array(['uV'], dtype='<U2'), array(['uV'], dtype='<U2'),\n",
       "                array(['uV'], dtype='<U2'), array(['uV'], dtype='<U2')]],\n",
       "              dtype=object), array([[ 0,  0,  0,  0,  0,  0,  0,  0,  0,  0,  0,  0,  0,  0,  0,  0,\n",
       "                 0,  0,  0,  0,  0,  0,  0,  0,  0,  0,  0,  0,  0,  0,  0,  0,\n",
       "                 0,  0,  0,  0,  0,  0,  0,  0,  0,  0, -1,  0,  0,  0,  0,  0,\n",
       "                 0,  0,  0,  0,  0,  0,  0,  0,  0,  0,  0,  0]], dtype=int16), array([[16000,  1600, 16000, 16000, 16000, 16000, 16000, 16000, 16000,\n",
       "                16000, 16000, 16000, 16000, 16000, 16000, 16000, 16000, 16000,\n",
       "                16000, 16000, 16000, 16000, 16000, 16000, 16000, 16000, 16000,\n",
       "                16000, 16000, 16000, 16000, 16000, 16000, 16000, 16000, 16000,\n",
       "                16000, 16000, 16000, 16000, 16000, 16000,     1, 16000, 16000,\n",
       "                16000, 16000, 16000, 16000, 16000, 16000, 16000, 16000, 16000,\n",
       "                16000, 16000, 16000, 16000, 16000, 16000]], dtype=uint16), array([[   0,    0,    0,    0,    0,    0,    0,    0,    0,    0,    0,\n",
       "                   0,    0,    0,    0,    0,    0,    0,    0,    0,    0,    0,\n",
       "                   0,    0,    0,    0,    0,    0,    0,    0,    0,    0,    0,\n",
       "                   0,    0,    0,    0,    0,    0,    0,    0,    0, -100,    0,\n",
       "                   0,    0,    0,    0,    0,    0,    0,    0,    0,    0,    0,\n",
       "                   0,    0,    0,    0,    0]], dtype=int16), array([[16000, 16000, 16000, 16000, 16000, 16000, 31200, 31200, 31200,\n",
       "                31200, 31200, 31200, 31200, 31200, 31200, 31200, 31200, 31200,\n",
       "                31200, 31200, 16000, 16000, 16000, 16000, 16000, 16000, 16000,\n",
       "                16000, 16000, 16000, 16000, 16000, 16000, 16000, 16000, 16000,\n",
       "                16000, 16000, 16000, 16000, 16000, 16000,   100, 16000, 16000,\n",
       "                16000, 16000, 16000, 16000, 16000, 16000, 16000, 16000, 16000,\n",
       "                16000, 16000, 16000, 16000, 16000, 16000]], dtype=uint16), array([[array(['                                                                                '],\n",
       "                      dtype='<U80')                                                                        ,\n",
       "                array(['                                                                                '],\n",
       "                      dtype='<U80')                                                                        ,\n",
       "                array(['                                                                                '],\n",
       "                      dtype='<U80')                                                                        ,\n",
       "                array(['                                                                                '],\n",
       "                      dtype='<U80')                                                                        ,\n",
       "                array(['                                                                                '],\n",
       "                      dtype='<U80')                                                                        ,\n",
       "                array(['                                                                                '],\n",
       "                      dtype='<U80')                                                                        ,\n",
       "                array(['                                                                                '],\n",
       "                      dtype='<U80')                                                                        ,\n",
       "                array(['                                                                                '],\n",
       "                      dtype='<U80')                                                                        ,\n",
       "                array(['                                                                                '],\n",
       "                      dtype='<U80')                                                                        ,\n",
       "                array(['                                                                                '],\n",
       "                      dtype='<U80')                                                                        ,\n",
       "                array(['                                                                                '],\n",
       "                      dtype='<U80')                                                                        ,\n",
       "                array(['                                                                                '],\n",
       "                      dtype='<U80')                                                                        ,\n",
       "                array(['                                                                                '],\n",
       "                      dtype='<U80')                                                                        ,\n",
       "                array(['                                                                                '],\n",
       "                      dtype='<U80')                                                                        ,\n",
       "                array(['                                                                                '],\n",
       "                      dtype='<U80')                                                                        ,\n",
       "                array(['                                                                                '],\n",
       "                      dtype='<U80')                                                                        ,\n",
       "                array(['                                                                                '],\n",
       "                      dtype='<U80')                                                                        ,\n",
       "                array(['                                                                                '],\n",
       "                      dtype='<U80')                                                                        ,\n",
       "                array(['                                                                                '],\n",
       "                      dtype='<U80')                                                                        ,\n",
       "                array(['                                                                                '],\n",
       "                      dtype='<U80')                                                                        ,\n",
       "                array(['                                                                                '],\n",
       "                      dtype='<U80')                                                                        ,\n",
       "                array(['                                                                                '],\n",
       "                      dtype='<U80')                                                                        ,\n",
       "                array(['                                                                                '],\n",
       "                      dtype='<U80')                                                                        ,\n",
       "                array(['                                                                                '],\n",
       "                      dtype='<U80')                                                                        ,\n",
       "                array(['                                                                                '],\n",
       "                      dtype='<U80')                                                                        ,\n",
       "                array(['                                                                                '],\n",
       "                      dtype='<U80')                                                                        ,\n",
       "                array(['                                                                                '],\n",
       "                      dtype='<U80')                                                                        ,\n",
       "                array(['                                                                                '],\n",
       "                      dtype='<U80')                                                                        ,\n",
       "                array(['                                                                                '],\n",
       "                      dtype='<U80')                                                                        ,\n",
       "                array(['                                                                                '],\n",
       "                      dtype='<U80')                                                                        ,\n",
       "                array(['                                                                                '],\n",
       "                      dtype='<U80')                                                                        ,\n",
       "                array(['                                                                                '],\n",
       "                      dtype='<U80')                                                                        ,\n",
       "                array(['                                                                                '],\n",
       "                      dtype='<U80')                                                                        ,\n",
       "                array(['                                                                                '],\n",
       "                      dtype='<U80')                                                                        ,\n",
       "                array(['                                                                                '],\n",
       "                      dtype='<U80')                                                                        ,\n",
       "                array(['                                                                                '],\n",
       "                      dtype='<U80')                                                                        ,\n",
       "                array(['                                                                                '],\n",
       "                      dtype='<U80')                                                                        ,\n",
       "                array(['                                                                                '],\n",
       "                      dtype='<U80')                                                                        ,\n",
       "                array(['                                                                                '],\n",
       "                      dtype='<U80')                                                                        ,\n",
       "                array(['                                                                                '],\n",
       "                      dtype='<U80')                                                                        ,\n",
       "                array(['                                                                                '],\n",
       "                      dtype='<U80')                                                                        ,\n",
       "                array(['                                                                                '],\n",
       "                      dtype='<U80')                                                                        ,\n",
       "                array(['                                                                                '],\n",
       "                      dtype='<U80')                                                                        ,\n",
       "                array(['                                                                                '],\n",
       "                      dtype='<U80')                                                                        ,\n",
       "                array(['                                                                                '],\n",
       "                      dtype='<U80')                                                                        ,\n",
       "                array(['                                                                                '],\n",
       "                      dtype='<U80')                                                                        ,\n",
       "                array(['                                                                                '],\n",
       "                      dtype='<U80')                                                                        ,\n",
       "                array(['                                                                                '],\n",
       "                      dtype='<U80')                                                                        ,\n",
       "                array(['                                                                                '],\n",
       "                      dtype='<U80')                                                                        ,\n",
       "                array(['                                                                                '],\n",
       "                      dtype='<U80')                                                                        ,\n",
       "                array(['                                                                                '],\n",
       "                      dtype='<U80')                                                                        ,\n",
       "                array(['                                                                                '],\n",
       "                      dtype='<U80')                                                                        ,\n",
       "                array(['                                                                                '],\n",
       "                      dtype='<U80')                                                                        ,\n",
       "                array(['                                                                                '],\n",
       "                      dtype='<U80')                                                                        ,\n",
       "                array(['                                                                                '],\n",
       "                      dtype='<U80')                                                                        ,\n",
       "                array(['                                                                                '],\n",
       "                      dtype='<U80')                                                                        ,\n",
       "                array(['                                                                                '],\n",
       "                      dtype='<U80')                                                                        ,\n",
       "                array(['                                                                                '],\n",
       "                      dtype='<U80')                                                                        ,\n",
       "                array(['                                                                                '],\n",
       "                      dtype='<U80')                                                                        ,\n",
       "                array(['                                                                                '],\n",
       "                      dtype='<U80')                                                                        ]],\n",
       "              dtype=object), array([[256, 256, 256, 256, 256, 256, 256, 256, 256, 256, 256, 256, 256,\n",
       "                256, 256, 256, 256, 256, 256, 256, 256, 256, 256, 256, 256, 256,\n",
       "                256, 256, 256, 256, 256, 256, 256, 256, 256, 256, 256, 256, 256,\n",
       "                256, 256, 256, 256, 256, 256, 256, 256, 256, 256, 256, 256, 256,\n",
       "                256, 256, 256, 256, 256, 256, 256, 256]], dtype=uint16), array([[256, 256, 256, 256, 256, 256, 256, 256, 256, 256, 256, 256, 256,\n",
       "                256, 256, 256, 256, 256, 256, 256, 256, 256, 256, 256, 256, 256,\n",
       "                256, 256, 256, 256, 256, 256, 256, 256, 256, 256, 256, 256, 256,\n",
       "                256, 256, 256, 256, 256, 256, 256, 256, 256, 256, 256, 256, 256,\n",
       "                256, 256, 256, 256, 256, 256, 256, 256]], dtype=uint16))                                                                                                                                                                                            ]],\n",
       "      dtype=[('ver', 'O'), ('patientID', 'O'), ('recordID', 'O'), ('startdate', 'O'), ('starttime', 'O'), ('bytes', 'O'), ('records', 'O'), ('duration', 'O'), ('ns', 'O'), ('label', 'O'), ('transducer', 'O'), ('units', 'O'), ('physicalMin', 'O'), ('physicalMax', 'O'), ('digitalMin', 'O'), ('digitalMax', 'O'), ('prefilter', 'O'), ('samples', 'O'), ('frequency', 'O')])"
      ]
     },
     "execution_count": 10,
     "metadata": {},
     "output_type": "execute_result"
    }
   ],
   "source": [
    "hdr = mat['hdr']\n",
    "hdr"
   ]
  },
  {
   "cell_type": "code",
   "execution_count": 11,
   "id": "247a74f0",
   "metadata": {
    "ExecuteTime": {
     "end_time": "2024-01-11T18:46:05.347777Z",
     "start_time": "2024-01-11T18:46:05.335850Z"
    }
   },
   "outputs": [
    {
     "data": {
      "text/plain": [
       "array([[(array([[256]], dtype=uint16), array([[array(['AF3'], dtype='<U3'), array(['F7'], dtype='<U2'),\n",
       "                array(['F3'], dtype='<U2'), array(['FC5'], dtype='<U3'),\n",
       "                array(['T7'], dtype='<U2'), array(['P7'], dtype='<U2'),\n",
       "                array(['O1'], dtype='<U2'), array(['O2'], dtype='<U2'),\n",
       "                array(['P8'], dtype='<U2'), array(['T8'], dtype='<U2'),\n",
       "                array(['FC6'], dtype='<U3'), array(['F4'], dtype='<U2'),\n",
       "                array(['F8'], dtype='<U2'), array(['AF4'], dtype='<U3')]],\n",
       "              dtype=object))                                                                           ]],\n",
       "      dtype=[('Fs', 'O'), ('label', 'O')])"
      ]
     },
     "execution_count": 11,
     "metadata": {},
     "output_type": "execute_result"
    }
   ],
   "source": [
    "header = mat['header']\n",
    "header"
   ]
  },
  {
   "cell_type": "code",
   "execution_count": 12,
   "id": "d170b759",
   "metadata": {
    "ExecuteTime": {
     "end_time": "2024-01-11T18:46:53.381122Z",
     "start_time": "2024-01-11T18:46:53.366777Z"
    }
   },
   "outputs": [
    {
     "data": {
      "text/plain": [
       "[]"
      ]
     },
     "execution_count": 12,
     "metadata": {},
     "output_type": "execute_result"
    }
   ],
   "source": [
    "__globals__ = mat['__globals__']\n",
    "__globals__"
   ]
  },
  {
   "cell_type": "code",
   "execution_count": 13,
   "id": "012f0458",
   "metadata": {
    "ExecuteTime": {
     "end_time": "2024-01-11T18:48:31.858960Z",
     "start_time": "2024-01-11T18:48:31.849965Z"
    }
   },
   "outputs": [
    {
     "data": {
      "text/plain": [
       "(14, 123392)"
      ]
     },
     "execution_count": 13,
     "metadata": {},
     "output_type": "execute_result"
    }
   ],
   "source": [
    "recordings_norm = mat['recordings_norm']\n",
    "recordings_norm.shape"
   ]
  },
  {
   "cell_type": "code",
   "execution_count": 14,
   "id": "0ac97185",
   "metadata": {
    "ExecuteTime": {
     "end_time": "2024-01-11T18:48:50.103003Z",
     "start_time": "2024-01-11T18:48:50.094219Z"
    }
   },
   "outputs": [
    {
     "data": {
      "text/plain": [
       "array([[-0.15336685, -0.16125076, -0.15993677, ...,  0.17512947,\n",
       "         0.18695534,  0.1908973 ],\n",
       "       [-0.06820397, -0.08565862, -0.09147684, ...,  0.0171299 ,\n",
       "         0.03264515,  0.05203921],\n",
       "       [ 0.10162961,  0.08435996,  0.10162961, ..., -0.43372964,\n",
       "        -0.38192068, -0.40782516],\n",
       "       ...,\n",
       "       [-0.02932595, -0.04586223, -0.05137433, ...,  0.02855104,\n",
       "         0.05611151,  0.05335546],\n",
       "       [-0.1434846 , -0.14927835, -0.1396221 , ...,  0.09405917,\n",
       "         0.14620292,  0.17903417],\n",
       "       [-0.01393716, -0.01745375, -0.01569546, ...,  0.0704609 ,\n",
       "         0.0836481 ,  0.08540639]])"
      ]
     },
     "execution_count": 14,
     "metadata": {},
     "output_type": "execute_result"
    }
   ],
   "source": [
    "recordings_norm"
   ]
  },
  {
   "cell_type": "markdown",
   "id": "0b5dbdc5",
   "metadata": {},
   "source": [
    "# Interpretación de Claves en el Archivo .mat\n",
    "\n",
    "- **__header__**: Contiene información sobre el archivo .mat, como la versión de MATLAB usada para crear el archivo y la fecha de creación. Es metainformación sobre el archivo más que datos para análisis.\n",
    "\n",
    "- **__version__**: Indica la versión del formato del archivo .mat utilizado. MATLAB ha tenido diferentes versiones de su formato de archivo a lo largo del tiempo.\n",
    "\n",
    "- **__globals__**: Contiene los nombres de las variables globales almacenadas en el archivo. En MATLAB, las variables globales son aquellas disponibles en todo el entorno de trabajo.\n",
    "\n",
    "- **hdr** y **header**: Claves específicas del archivo .mat que contienen información descriptiva sobre los datos, como detalles de la configuración del experimento y metadatos sobre las mediciones. El contenido exacto depende de cómo se hayan guardado estos datos en MATLAB.\n"
   ]
  },
  {
   "cell_type": "markdown",
   "id": "4ad157e0",
   "metadata": {},
   "source": [
    "# Modificar todos a npy"
   ]
  },
  {
   "cell_type": "code",
   "execution_count": 20,
   "id": "f7ef8473",
   "metadata": {
    "ExecuteTime": {
     "end_time": "2024-01-11T19:02:56.774564Z",
     "start_time": "2024-01-11T19:02:56.756036Z"
    }
   },
   "outputs": [],
   "source": [
    "import os\n",
    "import scipy.io\n",
    "import numpy as np\n",
    "\n",
    "carpetamat =  '../Raw Data/mat'\n",
    "carpetanpy = '../Final Data/npy'\n",
    "\n",
    "def guardar_recordings_norm_en_npy(carpetamat, carpetanpy):\n",
    "    # Lista todos los archivos .mat en la carpeta especificada\n",
    "    archivos_mat = [archivo for archivo in os.listdir(carpetamat) if archivo.endswith('.mat')]\n",
    "    \n",
    "    for archivo in archivos_mat:\n",
    "        # Carga el archivo .mat\n",
    "        datos = scipy.io.loadmat(os.path.join(carpetamat, archivo))\n",
    "        \n",
    "        # Extrae la variable recordings_norm\n",
    "        recordings_norm = datos.get('recordings_norm')\n",
    "        \n",
    "        if recordings_norm is not None:\n",
    "            # Guarda la variable en un archivo .npy\n",
    "            nombre_npy = archivo.replace('.mat', '_recordings_norm.npy')\n",
    "            np.save(os.path.join(carpetanpy, nombre_npy), recordings_norm)\n",
    "        else:\n",
    "            print(f\"El archivo {archivo} no contiene la variable 'recordings_norm'.\")\n"
   ]
  },
  {
   "cell_type": "code",
   "execution_count": 21,
   "id": "3b149ed2",
   "metadata": {
    "ExecuteTime": {
     "end_time": "2024-01-11T19:03:14.747280Z",
     "start_time": "2024-01-11T19:03:13.631748Z"
    }
   },
   "outputs": [],
   "source": [
    "guardar_recordings_norm_en_npy(carpetamat,carpetanpy)"
   ]
  },
  {
   "cell_type": "code",
   "execution_count": 26,
   "id": "8d9fbc79",
   "metadata": {
    "ExecuteTime": {
     "end_time": "2024-01-11T19:05:39.306910Z",
     "start_time": "2024-01-11T19:05:39.291129Z"
    }
   },
   "outputs": [],
   "source": [
    "pruebanumpypath = carpetanpy + '/S1BeatA1_recordings_norm.npy'"
   ]
  },
  {
   "cell_type": "code",
   "execution_count": 27,
   "id": "510a2de6",
   "metadata": {
    "ExecuteTime": {
     "end_time": "2024-01-11T19:05:39.631273Z",
     "start_time": "2024-01-11T19:05:39.616767Z"
    }
   },
   "outputs": [],
   "source": [
    "pruebanumpy = np.load(pruebanumpypath)"
   ]
  },
  {
   "cell_type": "code",
   "execution_count": 28,
   "id": "2c612ccc",
   "metadata": {
    "ExecuteTime": {
     "end_time": "2024-01-11T19:05:47.389730Z",
     "start_time": "2024-01-11T19:05:47.381843Z"
    }
   },
   "outputs": [
    {
     "data": {
      "text/plain": [
       "array([[-0.15336685, -0.16125076, -0.15993677, ...,  0.17512947,\n",
       "         0.18695534,  0.1908973 ],\n",
       "       [-0.06820397, -0.08565862, -0.09147684, ...,  0.0171299 ,\n",
       "         0.03264515,  0.05203921],\n",
       "       [ 0.10162961,  0.08435996,  0.10162961, ..., -0.43372964,\n",
       "        -0.38192068, -0.40782516],\n",
       "       ...,\n",
       "       [-0.02932595, -0.04586223, -0.05137433, ...,  0.02855104,\n",
       "         0.05611151,  0.05335546],\n",
       "       [-0.1434846 , -0.14927835, -0.1396221 , ...,  0.09405917,\n",
       "         0.14620292,  0.17903417],\n",
       "       [-0.01393716, -0.01745375, -0.01569546, ...,  0.0704609 ,\n",
       "         0.0836481 ,  0.08540639]])"
      ]
     },
     "execution_count": 28,
     "metadata": {},
     "output_type": "execute_result"
    }
   ],
   "source": [
    "pruebanumpy"
   ]
  },
  {
   "cell_type": "code",
   "execution_count": 1,
   "id": "29ccd694",
   "metadata": {
    "ExecuteTime": {
     "end_time": "2024-01-21T19:14:46.128240Z",
     "start_time": "2024-01-21T19:14:45.725549Z"
    }
   },
   "outputs": [
    {
     "ename": "NameError",
     "evalue": "name 'keys1' is not defined",
     "output_type": "error",
     "traceback": [
      "\u001b[1;31m---------------------------------------------------------------------------\u001b[0m",
      "\u001b[1;31mNameError\u001b[0m                                 Traceback (most recent call last)",
      "Cell \u001b[1;32mIn[1], line 2\u001b[0m\n\u001b[0;32m      1\u001b[0m \u001b[38;5;66;03m# Comparar los valores de cada clave\u001b[39;00m\n\u001b[1;32m----> 2\u001b[0m \u001b[38;5;28;01mfor\u001b[39;00m key \u001b[38;5;129;01min\u001b[39;00m \u001b[43mkeys1\u001b[49m:\n\u001b[0;32m      3\u001b[0m     \u001b[38;5;28;01mif\u001b[39;00m \u001b[38;5;129;01mnot\u001b[39;00m (np\u001b[38;5;241m.\u001b[39marray_equal(medicionsinfuente[key], medicionfuenteespacialtemporal[key]) \u001b[38;5;129;01mand\u001b[39;00m \n\u001b[0;32m      4\u001b[0m                 np\u001b[38;5;241m.\u001b[39marray_equal(medicionsinfuente[key], medicionfuenteespacial[key])):\n\u001b[0;32m      5\u001b[0m         \u001b[38;5;28mprint\u001b[39m(\u001b[38;5;124mf\u001b[39m\u001b[38;5;124m\"\u001b[39m\u001b[38;5;124mLos valores de la clave \u001b[39m\u001b[38;5;132;01m{\u001b[39;00mkey\u001b[38;5;132;01m}\u001b[39;00m\u001b[38;5;124m son diferentes en al menos uno de los archivos\u001b[39m\u001b[38;5;124m\"\u001b[39m)\n",
      "\u001b[1;31mNameError\u001b[0m: name 'keys1' is not defined"
     ]
    }
   ],
   "source": [
    "\n",
    "# Comparar los valores de cada clave\n",
    "for key in keys1:\n",
    "    if not (np.array_equal(medicionsinfuente[key], medicionfuenteespacialtemporal[key]) and \n",
    "                np.array_equal(medicionsinfuente[key], medicionfuenteespacial[key])):\n",
    "        print(f\"Los valores de la clave {key} son diferentes en al menos uno de los archivos\")\n",
    "        break\n",
    "else:\n",
    "    print(\"Los tres archivos son iguales\")"
   ]
  },
  {
   "cell_type": "code",
   "execution_count": null,
   "id": "307a0da0",
   "metadata": {},
   "outputs": [],
   "source": []
  }
 ],
 "metadata": {
  "hide_input": false,
  "kernelspec": {
   "display_name": "Python 3 (ipykernel)",
   "language": "python",
   "name": "python3"
  },
  "language_info": {
   "codemirror_mode": {
    "name": "ipython",
    "version": 3
   },
   "file_extension": ".py",
   "mimetype": "text/x-python",
   "name": "python",
   "nbconvert_exporter": "python",
   "pygments_lexer": "ipython3",
   "version": "3.10.11"
  },
  "toc": {
   "base_numbering": 1,
   "nav_menu": {},
   "number_sections": true,
   "sideBar": true,
   "skip_h1_title": false,
   "title_cell": "Table of Contents",
   "title_sidebar": "Contents",
   "toc_cell": false,
   "toc_position": {},
   "toc_section_display": true,
   "toc_window_display": false
  },
  "varInspector": {
   "cols": {
    "lenName": 16,
    "lenType": 16,
    "lenVar": 40
   },
   "kernels_config": {
    "python": {
     "delete_cmd_postfix": "",
     "delete_cmd_prefix": "del ",
     "library": "var_list.py",
     "varRefreshCmd": "print(var_dic_list())"
    },
    "r": {
     "delete_cmd_postfix": ") ",
     "delete_cmd_prefix": "rm(",
     "library": "var_list.r",
     "varRefreshCmd": "cat(var_dic_list()) "
    }
   },
   "types_to_exclude": [
    "module",
    "function",
    "builtin_function_or_method",
    "instance",
    "_Feature"
   ],
   "window_display": false
  }
 },
 "nbformat": 4,
 "nbformat_minor": 5
}
