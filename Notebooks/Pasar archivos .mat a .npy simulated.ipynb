{
 "cells": [
  {
   "cell_type": "code",
   "execution_count": 2,
   "id": "f8eced55",
   "metadata": {
    "ExecuteTime": {
     "end_time": "2024-01-21T19:01:43.765207Z",
     "start_time": "2024-01-21T19:01:43.700837Z"
    }
   },
   "outputs": [
    {
     "name": "stderr",
     "output_type": "stream",
     "text": [
      "C:\\Users\\rafae\\anaconda3\\envs\\tfcpu\\lib\\site-packages\\scipy\\__init__.py:146: UserWarning: A NumPy version >=1.17.3 and <1.25.0 is required for this version of SciPy (detected version 1.26.2\n",
      "  warnings.warn(f\"A NumPy version >={np_minversion} and <{np_maxversion}\"\n"
     ]
    }
   ],
   "source": [
    "import scipy.io\n",
    "import os"
   ]
  },
  {
   "cell_type": "code",
   "execution_count": 3,
   "id": "bec1fd39",
   "metadata": {
    "ExecuteTime": {
     "end_time": "2024-01-21T19:01:44.040639Z",
     "start_time": "2024-01-21T19:01:44.015335Z"
    }
   },
   "outputs": [],
   "source": [
    "medicionsinfuente = scipy.io.loadmat('../Raw Simulated Data/medicionsinfuente.mat')\n",
    "medicionfuenteespacialtemporal = scipy.io.loadmat('../Raw Simulated Data/medicionfuenteespacialtemporal.mat')\n",
    "medicionfuenteespacial = scipy.io.loadmat('../Raw Simulated Data/medicionfuenteespacial.mat')"
   ]
  },
  {
   "cell_type": "code",
   "execution_count": 6,
   "id": "faf0061c",
   "metadata": {
    "ExecuteTime": {
     "end_time": "2024-01-21T19:06:17.275306Z",
     "start_time": "2024-01-21T19:06:17.261837Z"
    }
   },
   "outputs": [
    {
     "name": "stdout",
     "output_type": "stream",
     "text": [
      "Los archivos tienen diferentes claves\n"
     ]
    }
   ],
   "source": [
    "# Comparar las claves\n",
    "if set(medicionsinfuente.keys()) != set(medicionfuenteespacialtemporal.keys()):\n",
    "    print(\"Los archivos tienen diferentes claves\")\n",
    "else:\n",
    "    # Comparar los valores de cada clave\n",
    "    for key in medicionsinfuente.keys():\n",
    "        if not np.array_equal(medicionsinfuente[key], medicionfuenteespacialtemporal[key]):\n",
    "            print(f\"Los valores de la clave {key} son diferentes\")\n",
    "            break\n",
    "    else:\n",
    "        print(\"Los archivos son iguales\")\n"
   ]
  },
  {
   "cell_type": "code",
   "execution_count": 7,
   "id": "f7bb4263",
   "metadata": {
    "ExecuteTime": {
     "end_time": "2024-01-21T19:07:51.229314Z",
     "start_time": "2024-01-21T19:07:51.226349Z"
    }
   },
   "outputs": [
    {
     "name": "stdout",
     "output_type": "stream",
     "text": [
      "Los valores de la clave __header__ son diferentes\n"
     ]
    }
   ],
   "source": [
    "# Comparar los valores de cada clave\n",
    "for key in medicionsinfuente.keys():\n",
    "    if not np.array_equal(medicionsinfuente[key], medicionfuenteespacialtemporal[key]):\n",
    "        print(f\"Los valores de la clave {key} son diferentes\")\n",
    "        break\n",
    "    else:\n",
    "        print(\"Los archivos son iguales\")"
   ]
  },
  {
   "cell_type": "code",
   "execution_count": 10,
   "id": "a1de95ab",
   "metadata": {
    "ExecuteTime": {
     "end_time": "2024-01-21T19:11:40.951554Z",
     "start_time": "2024-01-21T19:11:40.933644Z"
    }
   },
   "outputs": [
    {
     "name": "stdout",
     "output_type": "stream",
     "text": [
      "Los archivos tienen diferentes claves\n"
     ]
    }
   ],
   "source": [
    "import scipy.io\n",
    "import numpy as np\n",
    "\n",
    "# Cargar los archivos\n",
    "medicionsinfuente = scipy.io.loadmat('../Raw Simulated Data/medicionsinfuente.mat')\n",
    "medicionfuenteespacialtemporal = scipy.io.loadmat('../Raw Simulated Data/medicionfuenteespacialtemporal.mat')\n",
    "medicionfuenteespacial = scipy.io.loadmat('../Raw Simulated Data/medicionfuenteespacial.mat')\n",
    "\n",
    "# Comparar las claves\n",
    "keys1 = set(medicionsinfuente.keys())\n",
    "keys2 = set(medicionfuenteespacialtemporal.keys())\n",
    "keys3 = set(medicionfuenteespacial.keys())\n",
    "\n",
    "if keys1 != keys2 or keys1 != keys3:\n",
    "    print(\"Los archivos tienen diferentes claves\")\n",
    "else:\n",
    "    # Comparar los valores de cada clave\n",
    "    for key in keys1:\n",
    "        if not (np.array_equal(medicionsinfuente[key], medicionfuenteespacialtemporal[key]) and \n",
    "                np.array_equal(medicionsinfuente[key], medicionfuenteespacial[key])):\n",
    "            print(f\"Los valores de la clave {key} son diferentes en al menos uno de los archivos\")\n",
    "            break\n",
    "    else:\n",
    "        print(\"Los tres archivos son iguales\")\n"
   ]
  },
  {
   "cell_type": "code",
   "execution_count": 21,
   "id": "a0a2c3ec",
   "metadata": {
    "ExecuteTime": {
     "end_time": "2024-01-21T19:30:42.501762Z",
     "start_time": "2024-01-21T19:30:42.495740Z"
    }
   },
   "outputs": [
    {
     "name": "stdout",
     "output_type": "stream",
     "text": [
      "Los valores de la clave __header__ son diferentes\n"
     ]
    }
   ],
   "source": [
    "# Comparar los valores de cada clave\n",
    "for key in medicionsinfuente.keys():\n",
    "    if not np.array_equal(medicionsinfuente[key], medicionfuenteespacial[key]):\n",
    "        print(f\"Los valores de la clave {key} son diferentes\")\n",
    "        break\n",
    "    else:\n",
    "        print(\"Los archivos son iguales\")"
   ]
  },
  {
   "cell_type": "markdown",
   "id": "30ba6557",
   "metadata": {},
   "source": [
    "## Checamos si todas las entradas son iguales"
   ]
  },
  {
   "cell_type": "code",
   "execution_count": 23,
   "id": "a40f580d",
   "metadata": {
    "ExecuteTime": {
     "end_time": "2024-01-22T03:58:11.252281Z",
     "start_time": "2024-01-22T03:58:11.239246Z"
    }
   },
   "outputs": [
    {
     "name": "stdout",
     "output_type": "stream",
     "text": [
      "Todas las filas de la matriz son iguales.\n"
     ]
    }
   ],
   "source": [
    "matriz = medicionfuenteespacial['medicionfuenteespacial']\n",
    "\n",
    "# Toma la primera fila como referencia\n",
    "fila_referencia = matriz[0, :]\n",
    "\n",
    "# Comprobar si todas las filas son iguales a la fila de referencia\n",
    "son_iguales = all(np.array_equal(fila_referencia, matriz[i, :]) for i in range(matriz.shape[0]))\n",
    "\n",
    "if son_iguales:\n",
    "    print(\"Todas las filas de la matriz son iguales.\")\n",
    "else:\n",
    "    print(\"Hay filas en la matriz que son diferentes.\")"
   ]
  },
  {
   "cell_type": "code",
   "execution_count": 35,
   "id": "040e12fd",
   "metadata": {
    "ExecuteTime": {
     "end_time": "2024-01-22T04:06:10.220942Z",
     "start_time": "2024-01-22T04:06:10.211469Z"
    }
   },
   "outputs": [
    {
     "data": {
      "text/plain": [
       "(2560,)"
      ]
     },
     "execution_count": 35,
     "metadata": {},
     "output_type": "execute_result"
    }
   ],
   "source": [
    "medicionfuenteespacial['medicionfuenteespacial'][1].shape"
   ]
  },
  {
   "cell_type": "code",
   "execution_count": 37,
   "id": "cc8c8a83",
   "metadata": {
    "ExecuteTime": {
     "end_time": "2024-01-22T04:10:07.336703Z",
     "start_time": "2024-01-22T04:10:07.326604Z"
    }
   },
   "outputs": [],
   "source": [
    "# Seleccionar la parte específica del archivo que quieres guardar\n",
    "datos_a_guardar = medicionfuenteespacial['medicionfuenteespacial'][1]\n",
    "\n",
    "# Verificar la forma de los datos seleccionados\n",
    "forma_datos = datos_a_guardar.shape\n",
    "forma_datos\n",
    "\n",
    "# Guardar los datos en un archivo .npy\n",
    "np.save('../Final Data/Simulated/simulateddata.npy', datos_a_guardar)\n"
   ]
  },
  {
   "cell_type": "code",
   "execution_count": 38,
   "id": "e7579c4e",
   "metadata": {
    "ExecuteTime": {
     "end_time": "2024-01-22T04:10:52.335969Z",
     "start_time": "2024-01-22T04:10:52.318131Z"
    }
   },
   "outputs": [
    {
     "data": {
      "text/plain": [
       "array([ 1.75749209e-05,  2.72099212e-05,  3.00703800e-05, ...,\n",
       "       -8.16528060e-06, -4.02606513e-06,  5.58462811e-06])"
      ]
     },
     "execution_count": 38,
     "metadata": {},
     "output_type": "execute_result"
    }
   ],
   "source": [
    "pruebacarga = np.load('../Final Data/Simulated/simulateddata.npy')\n",
    "pruebacarga"
   ]
  },
  {
   "cell_type": "code",
   "execution_count": null,
   "id": "ae4e5327",
   "metadata": {},
   "outputs": [],
   "source": []
  }
 ],
 "metadata": {
  "hide_input": false,
  "kernelspec": {
   "display_name": "Python 3 (ipykernel)",
   "language": "python",
   "name": "python3"
  },
  "language_info": {
   "codemirror_mode": {
    "name": "ipython",
    "version": 3
   },
   "file_extension": ".py",
   "mimetype": "text/x-python",
   "name": "python",
   "nbconvert_exporter": "python",
   "pygments_lexer": "ipython3",
   "version": "3.10.11"
  },
  "toc": {
   "base_numbering": 1,
   "nav_menu": {},
   "number_sections": true,
   "sideBar": true,
   "skip_h1_title": false,
   "title_cell": "Table of Contents",
   "title_sidebar": "Contents",
   "toc_cell": false,
   "toc_position": {},
   "toc_section_display": true,
   "toc_window_display": false
  },
  "varInspector": {
   "cols": {
    "lenName": 16,
    "lenType": 16,
    "lenVar": 40
   },
   "kernels_config": {
    "python": {
     "delete_cmd_postfix": "",
     "delete_cmd_prefix": "del ",
     "library": "var_list.py",
     "varRefreshCmd": "print(var_dic_list())"
    },
    "r": {
     "delete_cmd_postfix": ") ",
     "delete_cmd_prefix": "rm(",
     "library": "var_list.r",
     "varRefreshCmd": "cat(var_dic_list()) "
    }
   },
   "types_to_exclude": [
    "module",
    "function",
    "builtin_function_or_method",
    "instance",
    "_Feature"
   ],
   "window_display": false
  }
 },
 "nbformat": 4,
 "nbformat_minor": 5
}
